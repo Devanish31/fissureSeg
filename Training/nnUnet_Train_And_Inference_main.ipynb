{
 "cells": [
  {
   "cell_type": "markdown",
   "id": "2e8f6957",
   "metadata": {},
   "source": [
    "## nn-uNet Training for the LungLobeCombinedDataset\n",
    "\n",
    "From the LungLobe_SPECT (Ottawa chest CT) dataset these were removed due to lack of one or few of the 5 labels or more than 2 mm slice thickness\n",
    "\n",
    "Total removed - 28"
   ]
  },
  {
   "cell_type": "markdown",
   "id": "cf0648b9",
   "metadata": {},
   "source": [
    "# All the code is to be run on command prompt/terminal."
   ]
  },
  {
   "cell_type": "markdown",
   "id": "4590175b",
   "metadata": {},
   "source": [
    "## Drop the imagesTr, labelsTr, and dataset.json in\n",
    "\n",
    "/LungLobeCombined_Dataset134_5000/Models/nnUnet/raw/Dataset100_LungLobeCombinedDataset/"
   ]
  },
  {
   "cell_type": "markdown",
   "id": "1a7251e9",
   "metadata": {},
   "source": [
    "## After connecting to remote GPU/computing cluster (Linux) on your command prompt/Terminal \n",
    "\n",
    "Follow instructions on nnUnetv2 Guthub page\n",
    "\n",
    "module load python/3.12.1\n",
    "\n",
    "unset PYTHONPATH\n",
    "unset PYTHONHOME\n",
    "unset PYTHONUSERBASE\n",
    "\n",
    "## Based on the path you lobe / fissure segmentation models data is stored in [look at nnuNet v2 documentation for this]\n",
    "\n",
    "export nnUNet_raw=\"/LungLobeCombined_Dataset134/Models/nnUnet/raw\"\n",
    "export nnUNet_preprocessed=\"/LungLobeCombined_Dataset134/Models/nnUnet/preprocessed\"\n",
    "export nnUNet_results=\"/LungLobeCombined_Dataset134/Models/nnUnet/results\"\n",
    "\n",
    "export nnUNetv2_trainer_dataloader_num_workers=6"
   ]
  },
  {
   "cell_type": "markdown",
   "id": "fa3f71cc",
   "metadata": {},
   "source": [
    "## Or local GPU\n",
    "\n",
    "Configure according to how you would usually train ML/DL models"
   ]
  },
  {
   "cell_type": "markdown",
   "id": "dbb9f88c",
   "metadata": {},
   "source": [
    "## To prepare the dataset for training\n",
    "\n",
    "nnUNetv2_plan_and_preprocess -d 100 --verify_dataset_integrity"
   ]
  },
  {
   "cell_type": "markdown",
   "id": "cc7237a0",
   "metadata": {},
   "source": [
    "## To start training\n",
    "\n",
    "nnUNetv2_train 100 3d_fullres 0"
   ]
  },
  {
   "cell_type": "markdown",
   "id": "1472c1a6",
   "metadata": {},
   "source": [
    "## If the training job ended abrupty before the predetermined final epoch\n",
    "\n",
    "nnUNetv2_train 100 3d_fullres 0 --c"
   ]
  },
  {
   "cell_type": "markdown",
   "id": "9fe61237",
   "metadata": {},
   "source": [
    "# if you need k-fold training (all to be done separately)\n",
    "nnUNetv2_train 100 3d_fullres 0\n",
    "nnUNetv2_train 100 3d_fullres 1\n",
    "nnUNetv2_train 100 3d_fullres 2\n",
    "nnUNetv2_train 100 3d_fullres 3\n",
    "nnUNetv2_train 100 3d_fullres 4"
   ]
  },
  {
   "cell_type": "markdown",
   "id": "74abf55b",
   "metadata": {},
   "source": [
    "## For inference on preop\n",
    "\n",
    "export nnUNet_raw=\"/LungLobeCombined_Dataset134/Models/nnUnet/raw\"\n",
    "export nnUNet_preprocessed=\"/LungLobeCombined_Dataset134/Models/nnUnet/preprocessed\"\n",
    "export nnUNet_results=\"/LungLobeCombined_Dataset134/Models/nnUnet/results\"\n",
    "\n",
    "nnUNetv2_predict \\\n",
    "  -i /Preop/input_folder \\\n",
    "  -o /Preop/pred_folder \\\n",
    "  -d 100 \\\n",
    "  -c 3d_fullres \\\n",
    "  -f 0 \\\n",
    "  --disable_tta \\\n",
    "  -chk checkpoint_best.pth\n"
   ]
  },
  {
   "cell_type": "markdown",
   "id": "bb699493",
   "metadata": {},
   "source": [
    "## For inference on fissure datasets\n",
    "\n",
    "### Corresponding global variables of the postop dataset\n",
    "\n",
    "export nnUNet_raw=\"/Fissure_Dataset134/Models/nnUnet/raw\"\n",
    "export nnUNet_preprocessed=\"/Fissure_Dataset134/Models/nnUnet/preprocessed\"\n",
    "export nnUNet_results=\"/Fissure_Dataset134/Models/nnUnet/results\"\n",
    "\n",
    "nnUNetv2_predict \\\n",
    "  -i /Fissures/input_folder \\\n",
    "  -o /Fissures/pred_folder \\\n",
    "  -d 100 \\\n",
    "  -c 3d_fullres \\\n",
    "  -f 0 \\\n",
    "  --disable_tta \\\n",
    "  -chk checkpoint_best.pth"
   ]
  }
 ],
 "metadata": {
  "language_info": {
   "name": "python"
  }
 },
 "nbformat": 4,
 "nbformat_minor": 5
}
